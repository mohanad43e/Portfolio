{
 "cells": [
  {
   "cell_type": "code",
   "execution_count": 1,
   "id": "7e48cd0b",
   "metadata": {},
   "outputs": [],
   "source": [
    "import requests\n",
    "from bs4 import BeautifulSoup\n",
    "import smtplib\n",
    "import csv\n",
    "import time\n",
    "import datetime\n",
    "import pandas as pd\n",
    "import numpy as np"
   ]
  },
  {
   "cell_type": "code",
   "execution_count": 2,
   "id": "e00daeaa",
   "metadata": {},
   "outputs": [],
   "source": [
    "headers = {\n",
    "    'accept': '*/*',\n",
    "    'User-Agent': 'Mozilla/5.0 (Windows NT 10.0; Win64; x64) AppleWebKit/537.36 (KHTML, like Gecko) Chrome/109.0.0.0 Safari/537.36 Edg/108.0.1462.76',\n",
    "    'Accept-Language': 'en-US,en;q=0.9,it;q=0.8,es;q=0.7',\n",
    "    'referer': 'https://www.google.com/',\n",
    "    'cookie': 'DSID=AAO-7r4OSkS76zbHUkiOpnI0kk-X19BLDFF53G8gbnd21VZV2iehu-w_2v14cxvRvrkd_NjIdBWX7wUiQ66f-D8kOkTKD1BhLVlqrFAaqDP3LodRK2I0NfrObmhV9HsedGE7-mQeJpwJifSxdchqf524IMh9piBflGqP0Lg0_xjGmLKEQ0F4Na6THgC06VhtUG5infEdqMQ9otlJENe3PmOQTC_UeTH5DnENYwWC8KXs-M4fWmDADmG414V0_X0TfjrYu01nDH2Dcf3TIOFbRDb993g8nOCswLMi92LwjoqhYnFdf1jzgK0'\n",
    "}\n",
    "url = 'https://www.amazon.com/s?bbn=16225007011&rh=n%3A16225007011%2Cn%3A13896617011&dc&qid=1673871620&rnid=16225007011&ref=lp_16225007011_nr_n_2'\n",
    "page = requests.get(url, headers = headers) \n",
    "soup = BeautifulSoup(page.content, 'html.parser')\n",
    "soup =  BeautifulSoup(soup.prettify(), 'html.parser')"
   ]
  },
  {
   "cell_type": "code",
   "execution_count": 3,
   "id": "17f27075",
   "metadata": {
    "scrolled": true
   },
   "outputs": [],
   "source": [
    "product_card = soup.find_all('div', {'class':\"puis-padding-left-small\"})\n",
    "product_name = product_card[3].contents[1].find('span').text.strip()\n",
    "rating = product_card[3].contents[3].find('span').text.strip()\n",
    "price = product_card[3].contents[5].find('span', 'a-offscreen').text.strip()"
   ]
  },
  {
   "cell_type": "code",
   "execution_count": 4,
   "id": "61ab1d46",
   "metadata": {},
   "outputs": [
    {
     "data": {
      "text/plain": [
       "'Lenovo 2022 Newest Ideapad 3 Laptop, 15.6\" HD Touchscreen, 11th Gen Intel Core i3-1115G4 Processor, 8GB DDR4 RAM, 256GB PCIe NVMe SSD, HDMI, Webcam, Wi-Fi 5, Bluetooth, Windows 11 Home, Almond'"
      ]
     },
     "execution_count": 4,
     "metadata": {},
     "output_type": "execute_result"
    }
   ],
   "source": [
    "product_name"
   ]
  },
  {
   "cell_type": "code",
   "execution_count": 5,
   "id": "07c064e0",
   "metadata": {
    "scrolled": true
   },
   "outputs": [
    {
     "data": {
      "text/plain": [
       "'4.4 out of 5 stars'"
      ]
     },
     "execution_count": 5,
     "metadata": {},
     "output_type": "execute_result"
    }
   ],
   "source": [
    "rating"
   ]
  },
  {
   "cell_type": "code",
   "execution_count": 6,
   "id": "010f18a7",
   "metadata": {},
   "outputs": [
    {
     "data": {
      "text/plain": [
       "'$385.99'"
      ]
     },
     "execution_count": 6,
     "metadata": {},
     "output_type": "execute_result"
    }
   ],
   "source": [
    "price"
   ]
  },
  {
   "cell_type": "code",
   "execution_count": 11,
   "id": "8289fbf7",
   "metadata": {
    "scrolled": false
   },
   "outputs": [],
   "source": [
    "product_card = soup.find_all('div', {'class':\"puis-padding-left-small\"})"
   ]
  },
  {
   "cell_type": "code",
   "execution_count": 9,
   "id": "ea0fd5aa",
   "metadata": {},
   "outputs": [],
   "source": [
    "product_details = []\n",
    "def get_product(product_card):\n",
    "    product_name = product_card.contents[1].find('span').text.strip()\n",
    "    rating = product_card.contents[3].find('span').text.strip()\n",
    "    price = product_card.find('span', 'a-offscreen').text.strip()\n",
    "    product_details.append({'product_name': product_name, \"rating\": rating, 'price': price})\n",
    "    return product_details\n",
    "for i in range(3, len(product_card)):        \n",
    "    get_product(product_card[i])"
   ]
  },
  {
   "cell_type": "code",
   "execution_count": 10,
   "id": "595b0277",
   "metadata": {},
   "outputs": [
    {
     "data": {
      "text/html": [
       "<div>\n",
       "<style scoped>\n",
       "    .dataframe tbody tr th:only-of-type {\n",
       "        vertical-align: middle;\n",
       "    }\n",
       "\n",
       "    .dataframe tbody tr th {\n",
       "        vertical-align: top;\n",
       "    }\n",
       "\n",
       "    .dataframe thead th {\n",
       "        text-align: right;\n",
       "    }\n",
       "</style>\n",
       "<table border=\"1\" class=\"dataframe\">\n",
       "  <thead>\n",
       "    <tr style=\"text-align: right;\">\n",
       "      <th></th>\n",
       "      <th>product_name</th>\n",
       "      <th>rating</th>\n",
       "      <th>price</th>\n",
       "    </tr>\n",
       "  </thead>\n",
       "  <tbody>\n",
       "    <tr>\n",
       "      <th>0</th>\n",
       "      <td>Lenovo 2022 Newest Ideapad 3 Laptop, 15.6\" HD ...</td>\n",
       "      <td>4.4 out of 5 stars</td>\n",
       "      <td>$385.99</td>\n",
       "    </tr>\n",
       "    <tr>\n",
       "      <th>1</th>\n",
       "      <td>Apple iPad (2018 Model) with Wi-Fi only 32GB A...</td>\n",
       "      <td>4.6 out of 5 stars</td>\n",
       "      <td>$195.00</td>\n",
       "    </tr>\n",
       "    <tr>\n",
       "      <th>2</th>\n",
       "      <td>ASUS TUF F15 Gaming Laptop, 15.6\" 144Hz FHD I...</td>\n",
       "      <td>4.6 out of 5 stars</td>\n",
       "      <td>$649.99</td>\n",
       "    </tr>\n",
       "    <tr>\n",
       "      <th>3</th>\n",
       "      <td>SAMSUNG Galaxy Tab A8 10.5” 32GB Android Table...</td>\n",
       "      <td>4.6 out of 5 stars</td>\n",
       "      <td>$169.95</td>\n",
       "    </tr>\n",
       "    <tr>\n",
       "      <th>4</th>\n",
       "      <td>SAMSUNG Galaxy Tab A7 Lite 8.7\" 32GB WiFi Andr...</td>\n",
       "      <td>4.6 out of 5 stars</td>\n",
       "      <td>$124.99</td>\n",
       "    </tr>\n",
       "    <tr>\n",
       "      <th>5</th>\n",
       "      <td>Lenovo IdeaPad 3 11 Chromebook Laptop,11.6\" HD...</td>\n",
       "      <td>4.4 out of 5 stars</td>\n",
       "      <td>$116.00</td>\n",
       "    </tr>\n",
       "    <tr>\n",
       "      <th>6</th>\n",
       "      <td>Lenovo IdeaPad Gaming 3 - 2022 - Everyday Gami...</td>\n",
       "      <td>4.4 out of 5 stars</td>\n",
       "      <td>$649.99</td>\n",
       "    </tr>\n",
       "    <tr>\n",
       "      <th>7</th>\n",
       "      <td>Acer Nitro 5 AN515-57-79TD Gaming Laptop | Int...</td>\n",
       "      <td>4.5 out of 5 stars</td>\n",
       "      <td>$779.00</td>\n",
       "    </tr>\n",
       "    <tr>\n",
       "      <th>8</th>\n",
       "      <td>Lenovo - 2022 - IdeaPad Flex 5i - 2-in-1 Chrom...</td>\n",
       "      <td>4.5 out of 5 stars</td>\n",
       "      <td>$299.99</td>\n",
       "    </tr>\n",
       "    <tr>\n",
       "      <th>12</th>\n",
       "      <td>ASUS Laptop L210 11.6” ultra thin, Intel Celer...</td>\n",
       "      <td>4.3 out of 5 stars</td>\n",
       "      <td>$147.99</td>\n",
       "    </tr>\n",
       "    <tr>\n",
       "      <th>13</th>\n",
       "      <td>SAMSUNG Galaxy Tab S7 FE 12.4” 256GB WiFi Andr...</td>\n",
       "      <td>4.7 out of 5 stars</td>\n",
       "      <td>$488.00</td>\n",
       "    </tr>\n",
       "    <tr>\n",
       "      <th>14</th>\n",
       "      <td>Acer Aspire 5 A515-45-R74Z Slim Laptop | 15.6\"...</td>\n",
       "      <td>4.5 out of 5 stars</td>\n",
       "      <td>$449.99</td>\n",
       "    </tr>\n",
       "    <tr>\n",
       "      <th>15</th>\n",
       "      <td>2017 Apple MacBook Air with 1.8GHz Intel Core ...</td>\n",
       "      <td>4.4 out of 5 stars</td>\n",
       "      <td>$474.99</td>\n",
       "    </tr>\n",
       "    <tr>\n",
       "      <th>16</th>\n",
       "      <td>ASUS TUF Dash 15 (2022) Gaming Laptop, 15.6\" 1...</td>\n",
       "      <td>4.5 out of 5 stars</td>\n",
       "      <td>$1,149.99</td>\n",
       "    </tr>\n",
       "    <tr>\n",
       "      <th>17</th>\n",
       "      <td>SGIN Laptop 15.6 Inch 12GB DDR4 512GB SSD, Win...</td>\n",
       "      <td>4.6 out of 5 stars</td>\n",
       "      <td>$359.99</td>\n",
       "    </tr>\n",
       "    <tr>\n",
       "      <th>18</th>\n",
       "      <td>Acer Aspire TC-1760-UA92 Desktop | 12th Gen In...</td>\n",
       "      <td>4.4 out of 5 stars</td>\n",
       "      <td>$539.99</td>\n",
       "    </tr>\n",
       "    <tr>\n",
       "      <th>19</th>\n",
       "      <td>Valve Steam Deck 64 GB</td>\n",
       "      <td>4.1 out of 5 stars</td>\n",
       "      <td>$549.00</td>\n",
       "    </tr>\n",
       "    <tr>\n",
       "      <th>20</th>\n",
       "      <td>Apple iPad Air 2, 64 GB, Space Gray (Renewed)</td>\n",
       "      <td>4.4 out of 5 stars</td>\n",
       "      <td>$150.00</td>\n",
       "    </tr>\n",
       "    <tr>\n",
       "      <th>21</th>\n",
       "      <td>Lenovo Tab M8 Tablet, HD Android Tablet, Quad-...</td>\n",
       "      <td>4.4 out of 5 stars</td>\n",
       "      <td>$89.00</td>\n",
       "    </tr>\n",
       "    <tr>\n",
       "      <th>22</th>\n",
       "      <td>SAMSUNG Galaxy Tab S8 11” 128GB WiFi 6E Androi...</td>\n",
       "      <td>4.7 out of 5 stars</td>\n",
       "      <td>$593.88</td>\n",
       "    </tr>\n",
       "    <tr>\n",
       "      <th>23</th>\n",
       "      <td>Dell Optiplex 7050 SFF Desktop PC Intel i7-770...</td>\n",
       "      <td>4.0 out of 5 stars</td>\n",
       "      <td>$339.97</td>\n",
       "    </tr>\n",
       "    <tr>\n",
       "      <th>24</th>\n",
       "      <td>Lenovo 11.6\" 300e Chromebook Touchscreen LCD 2...</td>\n",
       "      <td>4.0 out of 5 stars</td>\n",
       "      <td>$85.75</td>\n",
       "    </tr>\n",
       "    <tr>\n",
       "      <th>25</th>\n",
       "      <td>ASUS Chromebook Flip C433 2 in 1 Laptop, 14\" T...</td>\n",
       "      <td>4.4 out of 5 stars</td>\n",
       "      <td>$240.99</td>\n",
       "    </tr>\n",
       "    <tr>\n",
       "      <th>26</th>\n",
       "      <td>Apple iPad (10.2-Inch, Wi-Fi, 32GB) - Space Gr...</td>\n",
       "      <td>4.6 out of 5 stars</td>\n",
       "      <td>$249.99</td>\n",
       "    </tr>\n",
       "  </tbody>\n",
       "</table>\n",
       "</div>"
      ],
      "text/plain": [
       "                                         product_name              rating  \\\n",
       "0   Lenovo 2022 Newest Ideapad 3 Laptop, 15.6\" HD ...  4.4 out of 5 stars   \n",
       "1   Apple iPad (2018 Model) with Wi-Fi only 32GB A...  4.6 out of 5 stars   \n",
       "2   ASUS TUF F15 Gaming Laptop, 15.6\" 144Hz FHD I...  4.6 out of 5 stars   \n",
       "3   SAMSUNG Galaxy Tab A8 10.5” 32GB Android Table...  4.6 out of 5 stars   \n",
       "4   SAMSUNG Galaxy Tab A7 Lite 8.7\" 32GB WiFi Andr...  4.6 out of 5 stars   \n",
       "5   Lenovo IdeaPad 3 11 Chromebook Laptop,11.6\" HD...  4.4 out of 5 stars   \n",
       "6   Lenovo IdeaPad Gaming 3 - 2022 - Everyday Gami...  4.4 out of 5 stars   \n",
       "7   Acer Nitro 5 AN515-57-79TD Gaming Laptop | Int...  4.5 out of 5 stars   \n",
       "8   Lenovo - 2022 - IdeaPad Flex 5i - 2-in-1 Chrom...  4.5 out of 5 stars   \n",
       "12  ASUS Laptop L210 11.6” ultra thin, Intel Celer...  4.3 out of 5 stars   \n",
       "13  SAMSUNG Galaxy Tab S7 FE 12.4” 256GB WiFi Andr...  4.7 out of 5 stars   \n",
       "14  Acer Aspire 5 A515-45-R74Z Slim Laptop | 15.6\"...  4.5 out of 5 stars   \n",
       "15  2017 Apple MacBook Air with 1.8GHz Intel Core ...  4.4 out of 5 stars   \n",
       "16  ASUS TUF Dash 15 (2022) Gaming Laptop, 15.6\" 1...  4.5 out of 5 stars   \n",
       "17  SGIN Laptop 15.6 Inch 12GB DDR4 512GB SSD, Win...  4.6 out of 5 stars   \n",
       "18  Acer Aspire TC-1760-UA92 Desktop | 12th Gen In...  4.4 out of 5 stars   \n",
       "19                             Valve Steam Deck 64 GB  4.1 out of 5 stars   \n",
       "20      Apple iPad Air 2, 64 GB, Space Gray (Renewed)  4.4 out of 5 stars   \n",
       "21  Lenovo Tab M8 Tablet, HD Android Tablet, Quad-...  4.4 out of 5 stars   \n",
       "22  SAMSUNG Galaxy Tab S8 11” 128GB WiFi 6E Androi...  4.7 out of 5 stars   \n",
       "23  Dell Optiplex 7050 SFF Desktop PC Intel i7-770...  4.0 out of 5 stars   \n",
       "24  Lenovo 11.6\" 300e Chromebook Touchscreen LCD 2...  4.0 out of 5 stars   \n",
       "25  ASUS Chromebook Flip C433 2 in 1 Laptop, 14\" T...  4.4 out of 5 stars   \n",
       "26  Apple iPad (10.2-Inch, Wi-Fi, 32GB) - Space Gr...  4.6 out of 5 stars   \n",
       "\n",
       "        price  \n",
       "0     $385.99  \n",
       "1     $195.00  \n",
       "2     $649.99  \n",
       "3     $169.95  \n",
       "4     $124.99  \n",
       "5     $116.00  \n",
       "6     $649.99  \n",
       "7     $779.00  \n",
       "8     $299.99  \n",
       "12    $147.99  \n",
       "13    $488.00  \n",
       "14    $449.99  \n",
       "15    $474.99  \n",
       "16  $1,149.99  \n",
       "17    $359.99  \n",
       "18    $539.99  \n",
       "19    $549.00  \n",
       "20    $150.00  \n",
       "21     $89.00  \n",
       "22    $593.88  \n",
       "23    $339.97  \n",
       "24     $85.75  \n",
       "25    $240.99  \n",
       "26    $249.99  "
      ]
     },
     "execution_count": 10,
     "metadata": {},
     "output_type": "execute_result"
    }
   ],
   "source": [
    "products = pd.DataFrame(product_details)\n",
    "products = products.drop([9,10,11,27,28,29], axis = 0)\n",
    "products"
   ]
  },
  {
   "cell_type": "code",
   "execution_count": null,
   "id": "76e9f3e0",
   "metadata": {},
   "outputs": [],
   "source": []
  }
 ],
 "metadata": {
  "kernelspec": {
   "display_name": "Python 3 (ipykernel)",
   "language": "python",
   "name": "python3"
  },
  "language_info": {
   "codemirror_mode": {
    "name": "ipython",
    "version": 3
   },
   "file_extension": ".py",
   "mimetype": "text/x-python",
   "name": "python",
   "nbconvert_exporter": "python",
   "pygments_lexer": "ipython3",
   "version": "3.9.13"
  }
 },
 "nbformat": 4,
 "nbformat_minor": 5
}
