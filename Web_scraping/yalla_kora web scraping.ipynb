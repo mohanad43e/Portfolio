{
 "cells": [
  {
   "cell_type": "code",
   "execution_count": 1,
   "id": "bafdbfc1",
   "metadata": {},
   "outputs": [],
   "source": [
    "import requests\n",
    "from bs4 import BeautifulSoup\n",
    "import csv"
   ]
  },
  {
   "cell_type": "code",
   "execution_count": null,
   "id": "b55e95a5",
   "metadata": {
    "scrolled": false
   },
   "outputs": [],
   "source": [
    "date = input('Please enter a date on the following format mm/dd/yyyy: ')\n",
    "page = requests.get(f'https://www.yallakora.com/match-center/?date={date}')"
   ]
  },
  {
   "cell_type": "code",
   "execution_count": 5,
   "id": "e9abb60a",
   "metadata": {},
   "outputs": [],
   "source": [
    "def main(page):\n",
    "    src = page.content\n",
    "    soup = BeautifulSoup(src, 'lxml')\n",
    "    match_details = []\n",
    "    championships = soup.find_all('div', {'class': 'matchCard'})\n",
    "    \n",
    "    def get_match_details(championships):\n",
    "        championship_title = championships.contents[1].find('h2').text.strip()\n",
    "        all_matches =  championships.contents[3].find_all('li')\n",
    "        number_of_matches = len(all_matches)\n",
    "        for i in range(number_of_matches):\n",
    "            #get teams names\n",
    "            team_a = all_matches[i].find('div', {'class': 'teamA'}).text.strip()\n",
    "            team_b = all_matches[i].find('div', {'class': 'teamB'}).text.strip()\n",
    "            #get scores\n",
    "            match_result = all_matches[i].find('div', {'class': 'MResult'}).find_all('span', {'class':'score'})\n",
    "            score = f'{match_result[0].text.strip()} - {match_result[1].text.strip()}'\n",
    "            #get match time\n",
    "            match_time = all_matches[i].find('div', {'class': 'MResult'}).find('span', {'class':'time'}).text.strip()\n",
    "            #add match info to match_details\n",
    "            match_details.append({'Championship': championship_title, 'Team_A': team_a,'Team_B': team_b, \"Match_result\": score, 'Time': match_time})\n",
    "    for i in range(len(championships)):        \n",
    "        get_match_details(championships[i])\n",
    "    return match_details"
   ]
  },
  {
   "cell_type": "code",
   "execution_count": 6,
   "id": "db700d36",
   "metadata": {
    "scrolled": true
   },
   "outputs": [
    {
     "data": {
      "text/plain": [
       "[]"
      ]
     },
     "execution_count": 6,
     "metadata": {},
     "output_type": "execute_result"
    }
   ],
   "source": [
    "main(page)"
   ]
  },
  {
   "cell_type": "code",
   "execution_count": null,
   "id": "a3a8b84a",
   "metadata": {},
   "outputs": [],
   "source": []
  }
 ],
 "metadata": {
  "kernelspec": {
   "display_name": "Python 3 (ipykernel)",
   "language": "python",
   "name": "python3"
  },
  "language_info": {
   "codemirror_mode": {
    "name": "ipython",
    "version": 3
   },
   "file_extension": ".py",
   "mimetype": "text/x-python",
   "name": "python",
   "nbconvert_exporter": "python",
   "pygments_lexer": "ipython3",
   "version": "3.9.13"
  }
 },
 "nbformat": 4,
 "nbformat_minor": 5
}
