{
 "cells": [
  {
   "cell_type": "code",
   "execution_count": 1,
   "id": "c45bf414",
   "metadata": {},
   "outputs": [],
   "source": [
    "from selenium import webdriver \n",
    "from selenium.webdriver.support.ui import Select\n",
    "from selenium.webdriver.common.by import By\n",
    "from selenium.webdriver.chrome.options import Options\n",
    "import pandas as pd\n",
    "import time"
   ]
  },
  {
   "cell_type": "code",
   "execution_count": 2,
   "id": "836b92f9",
   "metadata": {},
   "outputs": [
    {
     "name": "stderr",
     "output_type": "stream",
     "text": [
      "C:\\Users\\WhamClinics 2\\AppData\\Local\\Temp\\ipykernel_9752\\4003868575.py:2: DeprecationWarning: headless property is deprecated, instead use add_argument('--headless') or add_argument('--headless=new')\n",
      "  options.headless = True\n"
     ]
    }
   ],
   "source": [
    "options = Options()\n",
    "options.headless = True\n",
    "website = \"http://www.betfair.com/exchange/plus/inplay/tennis\"\n",
    "path = \"chromedriver.exe\""
   ]
  },
  {
   "cell_type": "code",
   "execution_count": 4,
   "id": "3a41443b",
   "metadata": {},
   "outputs": [
    {
     "name": "stderr",
     "output_type": "stream",
     "text": [
      "C:\\Users\\WhamClinics 2\\AppData\\Local\\Temp\\ipykernel_9752\\2361205647.py:6: DeprecationWarning: executable_path has been deprecated, please pass in a Service object\n",
      "  driver = webdriver.Chrome(path)\n"
     ]
    },
    {
     "name": "stdout",
     "output_type": "stream",
     "text": [
      "  first_odd second_odd third_odd forth_odd\n",
      "0      1.15       1.35      3.85       7.4\n",
      "1      1.12       1.24       5.3       9.4\n",
      "2      1.23       1.28       4.5       5.4\n",
      "3      2.78        3.2      1.52      1.55\n",
      "4      1.05       1.06      13.5        21\n"
     ]
    },
    {
     "name": "stderr",
     "output_type": "stream",
     "text": [
      "C:\\Users\\WhamClinics 2\\AppData\\Local\\Temp\\ipykernel_9752\\2361205647.py:6: DeprecationWarning: executable_path has been deprecated, please pass in a Service object\n",
      "  driver = webdriver.Chrome(path)\n"
     ]
    },
    {
     "name": "stdout",
     "output_type": "stream",
     "text": [
      "  first_odd second_odd third_odd forth_odd\n",
      "0      1.23       1.34       3.9       110\n",
      "1      1.01       1.36      3.75          \n",
      "2      1.31       1.34       3.9       4.3\n",
      "3      2.78        3.2      1.52      1.55\n",
      "4      1.05       1.06      17.5        21\n"
     ]
    },
    {
     "name": "stderr",
     "output_type": "stream",
     "text": [
      "C:\\Users\\WhamClinics 2\\AppData\\Local\\Temp\\ipykernel_9752\\2361205647.py:6: DeprecationWarning: executable_path has been deprecated, please pass in a Service object\n",
      "  driver = webdriver.Chrome(path)\n"
     ]
    },
    {
     "name": "stdout",
     "output_type": "stream",
     "text": [
      "  first_odd second_odd third_odd forth_odd\n",
      "0      1.23       1.34       3.9       110\n",
      "1      1.04       1.15         8        26\n",
      "2      1.31       1.32       4.1       4.3\n",
      "3      1.97                 1.01      2.04\n",
      "4      1.05       1.06      17.5        21\n"
     ]
    },
    {
     "ename": "KeyboardInterrupt",
     "evalue": "",
     "output_type": "error",
     "traceback": [
      "\u001b[1;31m---------------------------------------------------------------------------\u001b[0m",
      "\u001b[1;31mKeyboardInterrupt\u001b[0m                         Traceback (most recent call last)",
      "\u001b[1;32m~\\AppData\\Local\\Temp\\ipykernel_9752\\2361205647.py\u001b[0m in \u001b[0;36m<module>\u001b[1;34m\u001b[0m\n\u001b[0;32m     15\u001b[0m     \u001b[0mdf\u001b[0m \u001b[1;33m=\u001b[0m \u001b[0mpd\u001b[0m\u001b[1;33m.\u001b[0m\u001b[0mDataFrame\u001b[0m\u001b[1;33m(\u001b[0m\u001b[1;33m{\u001b[0m\u001b[1;34m'first_odd'\u001b[0m\u001b[1;33m:\u001b[0m \u001b[0mfirst_odd\u001b[0m\u001b[1;33m,\u001b[0m \u001b[1;34m'second_odd'\u001b[0m\u001b[1;33m:\u001b[0m \u001b[0msecond_odd\u001b[0m\u001b[1;33m,\u001b[0m \u001b[1;34m\"third_odd\"\u001b[0m\u001b[1;33m:\u001b[0m \u001b[0mthird_odd\u001b[0m\u001b[1;33m,\u001b[0m \u001b[1;34m'forth_odd'\u001b[0m\u001b[1;33m:\u001b[0m \u001b[0mfourth_odd\u001b[0m\u001b[1;33m}\u001b[0m\u001b[1;33m)\u001b[0m\u001b[1;33m\u001b[0m\u001b[1;33m\u001b[0m\u001b[0m\n\u001b[0;32m     16\u001b[0m     \u001b[0mprint\u001b[0m\u001b[1;33m(\u001b[0m\u001b[0mdf\u001b[0m\u001b[1;33m.\u001b[0m\u001b[0mhead\u001b[0m\u001b[1;33m(\u001b[0m\u001b[1;33m)\u001b[0m\u001b[1;33m)\u001b[0m\u001b[1;33m\u001b[0m\u001b[1;33m\u001b[0m\u001b[0m\n\u001b[1;32m---> 17\u001b[1;33m     \u001b[0mtime\u001b[0m\u001b[1;33m.\u001b[0m\u001b[0msleep\u001b[0m\u001b[1;33m(\u001b[0m\u001b[1;36m60\u001b[0m\u001b[1;33m)\u001b[0m\u001b[1;33m\u001b[0m\u001b[1;33m\u001b[0m\u001b[0m\n\u001b[0m",
      "\u001b[1;31mKeyboardInterrupt\u001b[0m: "
     ]
    }
   ],
   "source": [
    "while True:\n",
    "    first_odd = []\n",
    "    second_odd = []\n",
    "    third_odd = []\n",
    "    fourth_odd = []\n",
    "    driver = webdriver.Chrome(path, options = options)\n",
    "    driver.get(website)\n",
    "    time.sleep(5)\n",
    "    odds = driver.find_elements(By.XPATH,\"//td[contains(@class, 'coupon-runners')]\")\n",
    "    for odd in odds:\n",
    "        first_odd.append(odd.find_element(By.XPATH,'(.//label[contains(@class, \"Zs3u5\")])[1]').text)\n",
    "        second_odd.append(odd.find_element(By.XPATH,'(.//label[contains(@class, \"Zs3u5\")])[2]').text)\n",
    "        third_odd.append(odd.find_element(By.XPATH,'(.//label[contains(@class, \"Zs3u5\")])[3]').text)\n",
    "        fourth_odd.append(odd.find_element(By.XPATH,'(.//label[contains(@class, \"Zs3u5\")])[4]').text)\n",
    "    df = pd.DataFrame({'first_odd': first_odd, 'second_odd': second_odd, \"third_odd\": third_odd, 'forth_odd': fourth_odd})\n",
    "    print(df.head())\n",
    "    time.sleep(60)"
   ]
  }
 ],
 "metadata": {
  "kernelspec": {
   "display_name": "Python 3 (ipykernel)",
   "language": "python",
   "name": "python3"
  },
  "language_info": {
   "codemirror_mode": {
    "name": "ipython",
    "version": 3
   },
   "file_extension": ".py",
   "mimetype": "text/x-python",
   "name": "python",
   "nbconvert_exporter": "python",
   "pygments_lexer": "ipython3",
   "version": "3.9.13"
  }
 },
 "nbformat": 4,
 "nbformat_minor": 5
}
