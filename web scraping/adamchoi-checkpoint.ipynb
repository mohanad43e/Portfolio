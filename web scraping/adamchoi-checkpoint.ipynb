{
 "cells": [
  {
   "cell_type": "markdown",
   "id": "d06b0e65",
   "metadata": {},
   "source": [
    "<h1>Import libraries </h1>"
   ]
  },
  {
   "cell_type": "code",
   "execution_count": 34,
   "id": "a3ae261b",
   "metadata": {},
   "outputs": [],
   "source": [
    "from selenium import webdriver\n",
    "from selenium.webdriver.support.ui import Select\n",
    "import pandas as pd"
   ]
  },
  {
   "cell_type": "code",
   "execution_count": 5,
   "id": "99e6f49d",
   "metadata": {
    "scrolled": true
   },
   "outputs": [
    {
     "name": "stderr",
     "output_type": "stream",
     "text": [
      "C:\\Users\\WhamClinics 2\\AppData\\Local\\Temp\\ipykernel_2932\\3139614650.py:3: DeprecationWarning: executable_path has been deprecated, please pass in a Service object\n",
      "  driver = webdriver.Chrome(path)\n"
     ]
    }
   ],
   "source": [
    "website = 'https://www.adamchoi.co.uk/overs/detailed'\n",
    "path = \"chromedriver.exe\"\n",
    "driver = webdriver.Chrome(path)\n",
    "driver.get(website)\n",
    "all_matches_button = driver.find_element(\"xpath\" ,\"//label[@analytics-event = 'All matches']\")\n",
    "all_matches_button.click()\n",
    "matches = driver.find_elements(\"xpath\", \"//tr\")"
   ]
  },
  {
   "cell_type": "code",
   "execution_count": 9,
   "id": "812704b7",
   "metadata": {},
   "outputs": [],
   "source": [
    "date = []\n",
    "home_team = []\n",
    "score = []\n",
    "away_team = []\n",
    "for match in matches:\n",
    "    date.append(match.find_element('xpath', \"./td[1]\").text)\n",
    "    home_team.append(match.find_element('xpath', \"./td[2]\").text)\n",
    "    score.append(match.find_element('xpath', \"./td[3]\").text)\n",
    "    away_team.append(match.find_element('xpath', \"./td[4]\").text)"
   ]
  },
  {
   "cell_type": "code",
   "execution_count": 13,
   "id": "fcf0ef7f",
   "metadata": {},
   "outputs": [],
   "source": [
    "match_df = pd.DataFrame({\"date\": date,\"home_team\": home_team,\"score\": score,\"away_team\": away_team})"
   ]
  },
  {
   "cell_type": "code",
   "execution_count": 14,
   "id": "aa71cf07",
   "metadata": {},
   "outputs": [
    {
     "data": {
      "text/html": [
       "<div>\n",
       "<style scoped>\n",
       "    .dataframe tbody tr th:only-of-type {\n",
       "        vertical-align: middle;\n",
       "    }\n",
       "\n",
       "    .dataframe tbody tr th {\n",
       "        vertical-align: top;\n",
       "    }\n",
       "\n",
       "    .dataframe thead th {\n",
       "        text-align: right;\n",
       "    }\n",
       "</style>\n",
       "<table border=\"1\" class=\"dataframe\">\n",
       "  <thead>\n",
       "    <tr style=\"text-align: right;\">\n",
       "      <th></th>\n",
       "      <th>date</th>\n",
       "      <th>home_team</th>\n",
       "      <th>score</th>\n",
       "      <th>away_team</th>\n",
       "    </tr>\n",
       "  </thead>\n",
       "  <tbody>\n",
       "    <tr>\n",
       "      <th>0</th>\n",
       "      <td>05-08-2022</td>\n",
       "      <td>Crystal Palace</td>\n",
       "      <td>0 - 2</td>\n",
       "      <td>Arsenal</td>\n",
       "    </tr>\n",
       "    <tr>\n",
       "      <th>1</th>\n",
       "      <td>13-08-2022</td>\n",
       "      <td>Arsenal</td>\n",
       "      <td>4 - 2</td>\n",
       "      <td>Leicester</td>\n",
       "    </tr>\n",
       "    <tr>\n",
       "      <th>2</th>\n",
       "      <td>20-08-2022</td>\n",
       "      <td>Bournemouth</td>\n",
       "      <td>0 - 3</td>\n",
       "      <td>Arsenal</td>\n",
       "    </tr>\n",
       "    <tr>\n",
       "      <th>3</th>\n",
       "      <td>27-08-2022</td>\n",
       "      <td>Arsenal</td>\n",
       "      <td>2 - 1</td>\n",
       "      <td>Fulham</td>\n",
       "    </tr>\n",
       "    <tr>\n",
       "      <th>4</th>\n",
       "      <td>31-08-2022</td>\n",
       "      <td>Arsenal</td>\n",
       "      <td>2 - 1</td>\n",
       "      <td>Aston Villa</td>\n",
       "    </tr>\n",
       "    <tr>\n",
       "      <th>...</th>\n",
       "      <td>...</td>\n",
       "      <td>...</td>\n",
       "      <td>...</td>\n",
       "      <td>...</td>\n",
       "    </tr>\n",
       "    <tr>\n",
       "      <th>415</th>\n",
       "      <td>31-12-2022</td>\n",
       "      <td>Wolves</td>\n",
       "      <td>0 - 1</td>\n",
       "      <td>Man United</td>\n",
       "    </tr>\n",
       "    <tr>\n",
       "      <th>416</th>\n",
       "      <td>04-01-2023</td>\n",
       "      <td>Aston Villa</td>\n",
       "      <td>1 - 1</td>\n",
       "      <td>Wolves</td>\n",
       "    </tr>\n",
       "    <tr>\n",
       "      <th>417</th>\n",
       "      <td>14-01-2023</td>\n",
       "      <td>Wolves</td>\n",
       "      <td>1 - 0</td>\n",
       "      <td>West Ham</td>\n",
       "    </tr>\n",
       "    <tr>\n",
       "      <th>418</th>\n",
       "      <td>22-01-2023</td>\n",
       "      <td>Man City</td>\n",
       "      <td>3 - 0</td>\n",
       "      <td>Wolves</td>\n",
       "    </tr>\n",
       "    <tr>\n",
       "      <th>419</th>\n",
       "      <td>04-02-2023</td>\n",
       "      <td>Wolves</td>\n",
       "      <td>? - ?</td>\n",
       "      <td>Liverpool</td>\n",
       "    </tr>\n",
       "  </tbody>\n",
       "</table>\n",
       "<p>420 rows × 4 columns</p>\n",
       "</div>"
      ],
      "text/plain": [
       "           date       home_team  score    away_team\n",
       "0    05-08-2022  Crystal Palace  0 - 2      Arsenal\n",
       "1    13-08-2022         Arsenal  4 - 2    Leicester\n",
       "2    20-08-2022     Bournemouth  0 - 3      Arsenal\n",
       "3    27-08-2022         Arsenal  2 - 1       Fulham\n",
       "4    31-08-2022         Arsenal  2 - 1  Aston Villa\n",
       "..          ...             ...    ...          ...\n",
       "415  31-12-2022          Wolves  0 - 1   Man United\n",
       "416  04-01-2023     Aston Villa  1 - 1       Wolves\n",
       "417  14-01-2023          Wolves  1 - 0     West Ham\n",
       "418  22-01-2023        Man City  3 - 0       Wolves\n",
       "419  04-02-2023          Wolves  ? - ?    Liverpool\n",
       "\n",
       "[420 rows x 4 columns]"
      ]
     },
     "execution_count": 14,
     "metadata": {},
     "output_type": "execute_result"
    }
   ],
   "source": [
    "match_df"
   ]
  },
  {
   "cell_type": "code",
   "execution_count": 37,
   "id": "592da132",
   "metadata": {
    "scrolled": true
   },
   "outputs": [
    {
     "name": "stderr",
     "output_type": "stream",
     "text": [
      "C:\\Users\\WhamClinics 2\\AppData\\Local\\Temp\\ipykernel_2932\\1370761334.py:3: DeprecationWarning: executable_path has been deprecated, please pass in a Service object\n",
      "  driver = webdriver.Chrome(path)\n"
     ]
    }
   ],
   "source": [
    "website = 'https://www.adamchoi.co.uk/overs/detailed'\n",
    "path = \"chromedriver.exe\"\n",
    "driver = webdriver.Chrome(path)\n",
    "driver.get(website)\n",
    "all_matches_button = driver.find_element(\"xpath\" ,\"//label[@analytics-event = 'All matches']\")\n",
    "all_matches_button.click()"
   ]
  },
  {
   "cell_type": "code",
   "execution_count": 43,
   "id": "149e6c62",
   "metadata": {
    "scrolled": false
   },
   "outputs": [],
   "source": [
    "drop_down = Select(driver.find_element('id',\"country\"))\n",
    "drop_down.select_by_visible_text(\"Spain\")\n",
    "matches = driver.find_elements(\"xpath\", \"//tr\")"
   ]
  },
  {
   "cell_type": "code",
   "execution_count": 44,
   "id": "4a388901",
   "metadata": {},
   "outputs": [],
   "source": [
    "date = []\n",
    "home_team = []\n",
    "score = []\n",
    "away_team = []\n",
    "for match in matches:\n",
    "    date.append(match.find_element('xpath', \"./td[1]\").text)\n",
    "    home_team.append(match.find_element('xpath', \"./td[2]\").text)\n",
    "    score.append(match.find_element('xpath', \"./td[3]\").text)\n",
    "    away_team.append(match.find_element('xpath', \"./td[4]\").text)"
   ]
  },
  {
   "cell_type": "code",
   "execution_count": 47,
   "id": "7d8b16f3",
   "metadata": {},
   "outputs": [
    {
     "data": {
      "text/html": [
       "<div>\n",
       "<style scoped>\n",
       "    .dataframe tbody tr th:only-of-type {\n",
       "        vertical-align: middle;\n",
       "    }\n",
       "\n",
       "    .dataframe tbody tr th {\n",
       "        vertical-align: top;\n",
       "    }\n",
       "\n",
       "    .dataframe thead th {\n",
       "        text-align: right;\n",
       "    }\n",
       "</style>\n",
       "<table border=\"1\" class=\"dataframe\">\n",
       "  <thead>\n",
       "    <tr style=\"text-align: right;\">\n",
       "      <th></th>\n",
       "      <th>date</th>\n",
       "      <th>home_team</th>\n",
       "      <th>score</th>\n",
       "      <th>away_team</th>\n",
       "    </tr>\n",
       "  </thead>\n",
       "  <tbody>\n",
       "    <tr>\n",
       "      <th>0</th>\n",
       "      <td>14-08-2022</td>\n",
       "      <td>Almeria</td>\n",
       "      <td>1 - 2</td>\n",
       "      <td>Real Madrid</td>\n",
       "    </tr>\n",
       "    <tr>\n",
       "      <th>1</th>\n",
       "      <td>22-08-2022</td>\n",
       "      <td>Elche</td>\n",
       "      <td>1 - 1</td>\n",
       "      <td>Almeria</td>\n",
       "    </tr>\n",
       "    <tr>\n",
       "      <th>2</th>\n",
       "      <td>27-08-2022</td>\n",
       "      <td>Almeria</td>\n",
       "      <td>2 - 1</td>\n",
       "      <td>Sevilla</td>\n",
       "    </tr>\n",
       "    <tr>\n",
       "      <th>3</th>\n",
       "      <td>05-09-2022</td>\n",
       "      <td>Valladolid</td>\n",
       "      <td>1 - 0</td>\n",
       "      <td>Almeria</td>\n",
       "    </tr>\n",
       "    <tr>\n",
       "      <th>4</th>\n",
       "      <td>12-09-2022</td>\n",
       "      <td>Almeria</td>\n",
       "      <td>0 - 1</td>\n",
       "      <td>Osasuna</td>\n",
       "    </tr>\n",
       "    <tr>\n",
       "      <th>...</th>\n",
       "      <td>...</td>\n",
       "      <td>...</td>\n",
       "      <td>...</td>\n",
       "      <td>...</td>\n",
       "    </tr>\n",
       "    <tr>\n",
       "      <th>397</th>\n",
       "      <td>07-01-2023</td>\n",
       "      <td>Villarreal</td>\n",
       "      <td>2 - 1</td>\n",
       "      <td>Real Madrid</td>\n",
       "    </tr>\n",
       "    <tr>\n",
       "      <th>398</th>\n",
       "      <td>13-01-2023</td>\n",
       "      <td>Celta</td>\n",
       "      <td>1 - 1</td>\n",
       "      <td>Villarreal</td>\n",
       "    </tr>\n",
       "    <tr>\n",
       "      <th>399</th>\n",
       "      <td>22-01-2023</td>\n",
       "      <td>Villarreal</td>\n",
       "      <td>1 - 0</td>\n",
       "      <td>Girona</td>\n",
       "    </tr>\n",
       "    <tr>\n",
       "      <th>400</th>\n",
       "      <td>30-01-2023</td>\n",
       "      <td>Villarreal</td>\n",
       "      <td>0 - 1</td>\n",
       "      <td>Vallecano</td>\n",
       "    </tr>\n",
       "    <tr>\n",
       "      <th>401</th>\n",
       "      <td>04-02-2023</td>\n",
       "      <td>Elche</td>\n",
       "      <td>? - ?</td>\n",
       "      <td>Villarreal</td>\n",
       "    </tr>\n",
       "  </tbody>\n",
       "</table>\n",
       "<p>402 rows × 4 columns</p>\n",
       "</div>"
      ],
      "text/plain": [
       "           date   home_team  score    away_team\n",
       "0    14-08-2022     Almeria  1 - 2  Real Madrid\n",
       "1    22-08-2022       Elche  1 - 1      Almeria\n",
       "2    27-08-2022     Almeria  2 - 1      Sevilla\n",
       "3    05-09-2022  Valladolid  1 - 0      Almeria\n",
       "4    12-09-2022     Almeria  0 - 1      Osasuna\n",
       "..          ...         ...    ...          ...\n",
       "397  07-01-2023  Villarreal  2 - 1  Real Madrid\n",
       "398  13-01-2023       Celta  1 - 1   Villarreal\n",
       "399  22-01-2023  Villarreal  1 - 0       Girona\n",
       "400  30-01-2023  Villarreal  0 - 1    Vallecano\n",
       "401  04-02-2023       Elche  ? - ?   Villarreal\n",
       "\n",
       "[402 rows x 4 columns]"
      ]
     },
     "execution_count": 47,
     "metadata": {},
     "output_type": "execute_result"
    }
   ],
   "source": [
    "match_df = pd.DataFrame({\"date\": date,\"home_team\": home_team,\"score\": score,\"away_team\": away_team})\n",
    "match_df"
   ]
  }
 ],
 "metadata": {
  "kernelspec": {
   "display_name": "Python 3 (ipykernel)",
   "language": "python",
   "name": "python3"
  },
  "language_info": {
   "codemirror_mode": {
    "name": "ipython",
    "version": 3
   },
   "file_extension": ".py",
   "mimetype": "text/x-python",
   "name": "python",
   "nbconvert_exporter": "python",
   "pygments_lexer": "ipython3",
   "version": "3.9.13"
  }
 },
 "nbformat": 4,
 "nbformat_minor": 5
}
