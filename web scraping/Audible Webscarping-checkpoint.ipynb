{
 "cells": [
  {
   "cell_type": "code",
   "execution_count": 1,
   "id": "a67d4df6",
   "metadata": {},
   "outputs": [],
   "source": [
    "from selenium import webdriver \n",
    "from selenium.webdriver.support.ui import Select\n",
    "from selenium.webdriver.common.by import By\n",
    "from selenium.webdriver.chrome.options import Options\n",
    "import pandas as pd"
   ]
  },
  {
   "cell_type": "code",
   "execution_count": 2,
   "id": "4628e622",
   "metadata": {},
   "outputs": [
    {
     "name": "stderr",
     "output_type": "stream",
     "text": [
      "C:\\Users\\WhamClinics 2\\AppData\\Local\\Temp\\ipykernel_552\\565698126.py:2: DeprecationWarning: headless property is deprecated, instead use add_argument('--headless') or add_argument('--headless=new')\n",
      "  options.headless = True\n"
     ]
    }
   ],
   "source": [
    "options = Options()\n",
    "options.headless = True"
   ]
  },
  {
   "cell_type": "code",
   "execution_count": 14,
   "id": "84f1ae64",
   "metadata": {},
   "outputs": [
    {
     "name": "stderr",
     "output_type": "stream",
     "text": [
      "C:\\Users\\WhamClinics 2\\AppData\\Local\\Temp\\ipykernel_552\\4252709952.py:3: DeprecationWarning: executable_path has been deprecated, please pass in a Service object\n",
      "  driver = webdriver.Chrome(path, options = options)\n"
     ]
    }
   ],
   "source": [
    "website = 'https://www.audible.com/search'\n",
    "path = \"chromedriver.exe\"\n",
    "driver = webdriver.Chrome(path, options = options)\n",
    "driver.get(website)"
   ]
  },
  {
   "cell_type": "code",
   "execution_count": 15,
   "id": "152bdcf8",
   "metadata": {},
   "outputs": [],
   "source": [
    "pagination = driver.find_element(By.XPATH, '//ul[contains(@class, \"pagingElements\")]')\n",
    "pages = pagination.find_elements(By.TAG_NAME, 'li')\n",
    "last_page = int(pages[-2].text)\n",
    "current_page = 1"
   ]
  },
  {
   "cell_type": "code",
   "execution_count": 16,
   "id": "2c821a7e",
   "metadata": {},
   "outputs": [],
   "source": [
    "title = []\n",
    "author = []\n",
    "book_length = []"
   ]
  },
  {
   "cell_type": "code",
   "execution_count": 17,
   "id": "fb6c7298",
   "metadata": {},
   "outputs": [],
   "source": [
    "while current_page <= last_page:\n",
    "    container = driver.find_element(By.CLASS_NAME, \"adbl-impression-container \")\n",
    "    products = container.find_elements(By.XPATH,'.//li[contains(@class, \"productListItem\")]')\n",
    "    for product in products:\n",
    "        title.append(product.find_element(By.XPATH, './/h3').text)\n",
    "        author.append(product.find_element(By.XPATH, './/li[contains(@class, \"authorLabel\")]').text)\n",
    "        book_length.append(product.find_element(By.XPATH, \".//li[contains(@class,'runtimeLabel')]\").text)\n",
    "    current_page = current_page + 1\n",
    "    next_page = driver.find_element(By.XPATH, '//span[contains(@class, \"nextButton\")]')\n",
    "    next_page.click()\n",
    "driver.quit()"
   ]
  },
  {
   "cell_type": "code",
   "execution_count": 18,
   "id": "bc846d7e",
   "metadata": {
    "scrolled": true
   },
   "outputs": [
    {
     "data": {
      "text/html": [
       "<div>\n",
       "<style scoped>\n",
       "    .dataframe tbody tr th:only-of-type {\n",
       "        vertical-align: middle;\n",
       "    }\n",
       "\n",
       "    .dataframe tbody tr th {\n",
       "        vertical-align: top;\n",
       "    }\n",
       "\n",
       "    .dataframe thead th {\n",
       "        text-align: right;\n",
       "    }\n",
       "</style>\n",
       "<table border=\"1\" class=\"dataframe\">\n",
       "  <thead>\n",
       "    <tr style=\"text-align: right;\">\n",
       "      <th></th>\n",
       "      <th>title</th>\n",
       "      <th>author</th>\n",
       "      <th>book_length</th>\n",
       "    </tr>\n",
       "  </thead>\n",
       "  <tbody>\n",
       "    <tr>\n",
       "      <th>0</th>\n",
       "      <td>A Thousand Li: The Third Realm</td>\n",
       "      <td>By: Tao Wong</td>\n",
       "      <td>Length: 14 hrs and 3 mins</td>\n",
       "    </tr>\n",
       "    <tr>\n",
       "      <th>1</th>\n",
       "      <td>The White Pill</td>\n",
       "      <td>By: Michael Malice</td>\n",
       "      <td>Length: 9 hrs and 11 mins</td>\n",
       "    </tr>\n",
       "    <tr>\n",
       "      <th>2</th>\n",
       "      <td>People vs. Donald Trump</td>\n",
       "      <td>By: Mark Pomerantz</td>\n",
       "      <td>Length: 9 hrs and 16 mins</td>\n",
       "    </tr>\n",
       "    <tr>\n",
       "      <th>3</th>\n",
       "      <td>In a Jam</td>\n",
       "      <td>By: Kate Canterbary</td>\n",
       "      <td>Length: 15 hrs and 54 mins</td>\n",
       "    </tr>\n",
       "    <tr>\n",
       "      <th>4</th>\n",
       "      <td>Holly</td>\n",
       "      <td>By: Stephen King</td>\n",
       "      <td>Length: 16 hrs</td>\n",
       "    </tr>\n",
       "    <tr>\n",
       "      <th>...</th>\n",
       "      <td>...</td>\n",
       "      <td>...</td>\n",
       "      <td>...</td>\n",
       "    </tr>\n",
       "    <tr>\n",
       "      <th>1195</th>\n",
       "      <td>Killers of the Flower Moon</td>\n",
       "      <td>By: David Grann</td>\n",
       "      <td>Length: 9 hrs and 4 mins</td>\n",
       "    </tr>\n",
       "    <tr>\n",
       "      <th>1196</th>\n",
       "      <td>Guns, Germs and Steel</td>\n",
       "      <td>By: Jared Diamond</td>\n",
       "      <td>Length: 16 hrs and 20 mins</td>\n",
       "    </tr>\n",
       "    <tr>\n",
       "      <th>1197</th>\n",
       "      <td>Shoe Dog</td>\n",
       "      <td>By: Phil Knight</td>\n",
       "      <td>Length: 13 hrs and 21 mins</td>\n",
       "    </tr>\n",
       "    <tr>\n",
       "      <th>1198</th>\n",
       "      <td>Profit First</td>\n",
       "      <td>By: Mike Michalowicz</td>\n",
       "      <td>Length: 8 hrs and 35 mins</td>\n",
       "    </tr>\n",
       "    <tr>\n",
       "      <th>1199</th>\n",
       "      <td>Behind Closed Doors</td>\n",
       "      <td>By: B. A. Paris</td>\n",
       "      <td>Length: 8 hrs and 30 mins</td>\n",
       "    </tr>\n",
       "  </tbody>\n",
       "</table>\n",
       "<p>1200 rows × 3 columns</p>\n",
       "</div>"
      ],
      "text/plain": [
       "                               title                author  \\\n",
       "0     A Thousand Li: The Third Realm          By: Tao Wong   \n",
       "1                     The White Pill    By: Michael Malice   \n",
       "2            People vs. Donald Trump    By: Mark Pomerantz   \n",
       "3                           In a Jam   By: Kate Canterbary   \n",
       "4                              Holly      By: Stephen King   \n",
       "...                              ...                   ...   \n",
       "1195      Killers of the Flower Moon       By: David Grann   \n",
       "1196           Guns, Germs and Steel     By: Jared Diamond   \n",
       "1197                        Shoe Dog       By: Phil Knight   \n",
       "1198                    Profit First  By: Mike Michalowicz   \n",
       "1199             Behind Closed Doors       By: B. A. Paris   \n",
       "\n",
       "                     book_length  \n",
       "0      Length: 14 hrs and 3 mins  \n",
       "1      Length: 9 hrs and 11 mins  \n",
       "2      Length: 9 hrs and 16 mins  \n",
       "3     Length: 15 hrs and 54 mins  \n",
       "4                 Length: 16 hrs  \n",
       "...                          ...  \n",
       "1195    Length: 9 hrs and 4 mins  \n",
       "1196  Length: 16 hrs and 20 mins  \n",
       "1197  Length: 13 hrs and 21 mins  \n",
       "1198   Length: 8 hrs and 35 mins  \n",
       "1199   Length: 8 hrs and 30 mins  \n",
       "\n",
       "[1200 rows x 3 columns]"
      ]
     },
     "execution_count": 18,
     "metadata": {},
     "output_type": "execute_result"
    }
   ],
   "source": [
    "book_df = pd.DataFrame({\"title\": title, \"author\": author, \"book_length\": book_length})\n",
    "book_df"
   ]
  },
  {
   "cell_type": "code",
   "execution_count": null,
   "id": "a935201f",
   "metadata": {},
   "outputs": [],
   "source": []
  }
 ],
 "metadata": {
  "kernelspec": {
   "display_name": "Python 3 (ipykernel)",
   "language": "python",
   "name": "python3"
  },
  "language_info": {
   "codemirror_mode": {
    "name": "ipython",
    "version": 3
   },
   "file_extension": ".py",
   "mimetype": "text/x-python",
   "name": "python",
   "nbconvert_exporter": "python",
   "pygments_lexer": "ipython3",
   "version": "3.9.13"
  }
 },
 "nbformat": 4,
 "nbformat_minor": 5
}
